{
 "cells": [
  {
   "cell_type": "code",
   "execution_count": null,
   "id": "577e1e3c",
   "metadata": {},
   "outputs": [],
   "source": [
    "#pandas\n",
    "import pandas as pd\n",
    "#pandas is defines as an open source library that provides \n",
    "#high performannce data manipulation in python\n",
    "#data analysis reqiures lot of processing such as restructuring ,\n",
    "#cleaning,mergin,manipulator etc..we perform pandas to perform the above functionalities coz it is fast,simple than the other tools \n",
    "#pandas is built on Numpy ,numpy is requiredfor operating\n",
    "#pandas"
   ]
  },
  {
   "cell_type": "code",
   "execution_count": null,
   "id": "ac80d5a5",
   "metadata": {},
   "outputs": [],
   "source": [
    "#pandas\n",
    "#pandas is built on numpy,numpy is required for operating pandas\n",
    "import pandas as pd"
   ]
  },
  {
   "cell_type": "code",
   "execution_count": null,
   "id": "1be33e3e",
   "metadata": {},
   "outputs": [],
   "source": [
    "import numpy as np\n",
    "labels=['a','b','c']\n",
    "my_data=[10,20,30]\n",
    "arr=np.array(my_data)\n",
    "d={'a':100,'b':200,'c':300}\n",
    "pd.Series(my_data)"
   ]
  },
  {
   "cell_type": "code",
   "execution_count": 2,
   "id": "5b1708af",
   "metadata": {},
   "outputs": [
    {
     "data": {
      "text/plain": [
       "0    10\n",
       "1    20\n",
       "2    30\n",
       "dtype: int64"
      ]
     },
     "execution_count": 2,
     "metadata": {},
     "output_type": "execute_result"
    }
   ],
   "source": [
    "import pandas as pd\n",
    "pd.Series(my_data)"
   ]
  },
  {
   "cell_type": "code",
   "execution_count": 3,
   "id": "d3c8a896",
   "metadata": {},
   "outputs": [
    {
     "data": {
      "text/plain": [
       "pandas.core.series.Series"
      ]
     },
     "execution_count": 3,
     "metadata": {},
     "output_type": "execute_result"
    }
   ],
   "source": [
    "type(pd.Series(my_data))\n"
   ]
  },
  {
   "cell_type": "code",
   "execution_count": 4,
   "id": "cfa154d0",
   "metadata": {},
   "outputs": [
    {
     "data": {
      "text/plain": [
       "0    <built-in function print>\n",
       "1      <built-in function len>\n",
       "2      <built-in function sum>\n",
       "dtype: object"
      ]
     },
     "execution_count": 4,
     "metadata": {},
     "output_type": "execute_result"
    }
   ],
   "source": [
    "pd.Series(data=[print,len,sum])"
   ]
  },
  {
   "cell_type": "code",
   "execution_count": 7,
   "id": "eeba8e92",
   "metadata": {},
   "outputs": [
    {
     "data": {
      "text/plain": [
       "australia     1\n",
       "india         2\n",
       "newzealand    3\n",
       "usa           4\n",
       "uk            5\n",
       "dtype: int64"
      ]
     },
     "execution_count": 7,
     "metadata": {},
     "output_type": "execute_result"
    }
   ],
   "source": [
    "ser1=pd.Series([1,2,3,4,5],['australia','india','newzealand','usa','uk'])\n",
    "ser1"
   ]
  },
  {
   "cell_type": "code",
   "execution_count": 8,
   "id": "a0dddeb7",
   "metadata": {},
   "outputs": [
    {
     "data": {
      "text/plain": [
       "2"
      ]
     },
     "execution_count": 8,
     "metadata": {},
     "output_type": "execute_result"
    }
   ],
   "source": [
    "ser1['india']"
   ]
  },
  {
   "cell_type": "code",
   "execution_count": 9,
   "id": "8d20c8f0",
   "metadata": {},
   "outputs": [
    {
     "data": {
      "text/plain": [
       "india         2\n",
       "newzealand    3\n",
       "dtype: int64"
      ]
     },
     "execution_count": 9,
     "metadata": {},
     "output_type": "execute_result"
    }
   ],
   "source": [
    "ser1[1:3]"
   ]
  },
  {
   "cell_type": "code",
   "execution_count": 17,
   "id": "b83fd4c5",
   "metadata": {},
   "outputs": [],
   "source": [
    "df=pd.DataFrame(np.random.randn(5,4),['a','b','c','d','e'])"
   ]
  },
  {
   "cell_type": "code",
   "execution_count": 11,
   "id": "2dd647bb",
   "metadata": {
    "scrolled": true
   },
   "outputs": [
    {
     "data": {
      "text/html": [
       "<div>\n",
       "<style scoped>\n",
       "    .dataframe tbody tr th:only-of-type {\n",
       "        vertical-align: middle;\n",
       "    }\n",
       "\n",
       "    .dataframe tbody tr th {\n",
       "        vertical-align: top;\n",
       "    }\n",
       "\n",
       "    .dataframe thead th {\n",
       "        text-align: right;\n",
       "    }\n",
       "</style>\n",
       "<table border=\"1\" class=\"dataframe\">\n",
       "  <thead>\n",
       "    <tr style=\"text-align: right;\">\n",
       "      <th></th>\n",
       "      <th>0</th>\n",
       "      <th>1</th>\n",
       "      <th>2</th>\n",
       "      <th>3</th>\n",
       "    </tr>\n",
       "  </thead>\n",
       "  <tbody>\n",
       "    <tr>\n",
       "      <th>a</th>\n",
       "      <td>1.314794</td>\n",
       "      <td>0.744151</td>\n",
       "      <td>0.927781</td>\n",
       "      <td>-1.834479</td>\n",
       "    </tr>\n",
       "    <tr>\n",
       "      <th>b</th>\n",
       "      <td>-0.016380</td>\n",
       "      <td>-0.232984</td>\n",
       "      <td>-0.201421</td>\n",
       "      <td>-0.201334</td>\n",
       "    </tr>\n",
       "    <tr>\n",
       "      <th>c</th>\n",
       "      <td>-0.739447</td>\n",
       "      <td>-1.385865</td>\n",
       "      <td>0.934508</td>\n",
       "      <td>0.468290</td>\n",
       "    </tr>\n",
       "    <tr>\n",
       "      <th>d</th>\n",
       "      <td>1.800870</td>\n",
       "      <td>-1.875814</td>\n",
       "      <td>0.666112</td>\n",
       "      <td>-1.266218</td>\n",
       "    </tr>\n",
       "    <tr>\n",
       "      <th>e</th>\n",
       "      <td>1.732644</td>\n",
       "      <td>-0.758148</td>\n",
       "      <td>0.571164</td>\n",
       "      <td>0.497744</td>\n",
       "    </tr>\n",
       "  </tbody>\n",
       "</table>\n",
       "</div>"
      ],
      "text/plain": [
       "          0         1         2         3\n",
       "a  1.314794  0.744151  0.927781 -1.834479\n",
       "b -0.016380 -0.232984 -0.201421 -0.201334\n",
       "c -0.739447 -1.385865  0.934508  0.468290\n",
       "d  1.800870 -1.875814  0.666112 -1.266218\n",
       "e  1.732644 -0.758148  0.571164  0.497744"
      ]
     },
     "execution_count": 11,
     "metadata": {},
     "output_type": "execute_result"
    }
   ],
   "source": [
    "df"
   ]
  },
  {
   "cell_type": "code",
   "execution_count": 12,
   "id": "c7577055",
   "metadata": {},
   "outputs": [
    {
     "data": {
      "text/plain": [
       "{'col': [1, 2], 'co12': [3, 4], 'co13': [5, 6]}"
      ]
     },
     "execution_count": 12,
     "metadata": {},
     "output_type": "execute_result"
    }
   ],
   "source": [
    "d={'col':[1,2],'co12':[3,4],'co13':[5,6]}\n",
    "d"
   ]
  },
  {
   "cell_type": "code",
   "execution_count": 13,
   "id": "71c0b74f",
   "metadata": {
    "scrolled": false
   },
   "outputs": [
    {
     "data": {
      "text/html": [
       "<div>\n",
       "<style scoped>\n",
       "    .dataframe tbody tr th:only-of-type {\n",
       "        vertical-align: middle;\n",
       "    }\n",
       "\n",
       "    .dataframe tbody tr th {\n",
       "        vertical-align: top;\n",
       "    }\n",
       "\n",
       "    .dataframe thead th {\n",
       "        text-align: right;\n",
       "    }\n",
       "</style>\n",
       "<table border=\"1\" class=\"dataframe\">\n",
       "  <thead>\n",
       "    <tr style=\"text-align: right;\">\n",
       "      <th></th>\n",
       "      <th>col</th>\n",
       "      <th>co12</th>\n",
       "      <th>co13</th>\n",
       "    </tr>\n",
       "  </thead>\n",
       "  <tbody>\n",
       "    <tr>\n",
       "      <th>0</th>\n",
       "      <td>1</td>\n",
       "      <td>3</td>\n",
       "      <td>5</td>\n",
       "    </tr>\n",
       "    <tr>\n",
       "      <th>1</th>\n",
       "      <td>2</td>\n",
       "      <td>4</td>\n",
       "      <td>6</td>\n",
       "    </tr>\n",
       "  </tbody>\n",
       "</table>\n",
       "</div>"
      ],
      "text/plain": [
       "   col  co12  co13\n",
       "0    1     3     5\n",
       "1    2     4     6"
      ]
     },
     "execution_count": 13,
     "metadata": {},
     "output_type": "execute_result"
    }
   ],
   "source": [
    "df=pd.DataFrame(data=d)\n",
    "df"
   ]
  },
  {
   "cell_type": "code",
   "execution_count": 14,
   "id": "3ccb78d4",
   "metadata": {},
   "outputs": [
    {
     "data": {
      "text/html": [
       "<div>\n",
       "<style scoped>\n",
       "    .dataframe tbody tr th:only-of-type {\n",
       "        vertical-align: middle;\n",
       "    }\n",
       "\n",
       "    .dataframe tbody tr th {\n",
       "        vertical-align: top;\n",
       "    }\n",
       "\n",
       "    .dataframe thead th {\n",
       "        text-align: right;\n",
       "    }\n",
       "</style>\n",
       "<table border=\"1\" class=\"dataframe\">\n",
       "  <thead>\n",
       "    <tr style=\"text-align: right;\">\n",
       "      <th></th>\n",
       "      <th>col</th>\n",
       "      <th>co12</th>\n",
       "      <th>co13</th>\n",
       "    </tr>\n",
       "  </thead>\n",
       "  <tbody>\n",
       "    <tr>\n",
       "      <th>row1</th>\n",
       "      <td>1</td>\n",
       "      <td>3</td>\n",
       "      <td>5</td>\n",
       "    </tr>\n",
       "    <tr>\n",
       "      <th>row2</th>\n",
       "      <td>2</td>\n",
       "      <td>4</td>\n",
       "      <td>6</td>\n",
       "    </tr>\n",
       "  </tbody>\n",
       "</table>\n",
       "</div>"
      ],
      "text/plain": [
       "      col  co12  co13\n",
       "row1    1     3     5\n",
       "row2    2     4     6"
      ]
     },
     "execution_count": 14,
     "metadata": {},
     "output_type": "execute_result"
    }
   ],
   "source": [
    "df=pd.DataFrame(d,['row1','row2'])\n",
    "df"
   ]
  },
  {
   "cell_type": "code",
   "execution_count": 18,
   "id": "98242539",
   "metadata": {
    "scrolled": false
   },
   "outputs": [
    {
     "data": {
      "text/html": [
       "<div>\n",
       "<style scoped>\n",
       "    .dataframe tbody tr th:only-of-type {\n",
       "        vertical-align: middle;\n",
       "    }\n",
       "\n",
       "    .dataframe tbody tr th {\n",
       "        vertical-align: top;\n",
       "    }\n",
       "\n",
       "    .dataframe thead th {\n",
       "        text-align: right;\n",
       "    }\n",
       "</style>\n",
       "<table border=\"1\" class=\"dataframe\">\n",
       "  <thead>\n",
       "    <tr style=\"text-align: right;\">\n",
       "      <th></th>\n",
       "      <th>0</th>\n",
       "      <th>1</th>\n",
       "      <th>2</th>\n",
       "      <th>3</th>\n",
       "    </tr>\n",
       "  </thead>\n",
       "  <tbody>\n",
       "    <tr>\n",
       "      <th>a</th>\n",
       "      <td>-1.462043</td>\n",
       "      <td>1.635072</td>\n",
       "      <td>2.194328</td>\n",
       "      <td>-0.805734</td>\n",
       "    </tr>\n",
       "    <tr>\n",
       "      <th>b</th>\n",
       "      <td>0.745109</td>\n",
       "      <td>0.293267</td>\n",
       "      <td>0.099090</td>\n",
       "      <td>-0.356776</td>\n",
       "    </tr>\n",
       "    <tr>\n",
       "      <th>c</th>\n",
       "      <td>0.088130</td>\n",
       "      <td>1.765762</td>\n",
       "      <td>1.527496</td>\n",
       "      <td>1.447501</td>\n",
       "    </tr>\n",
       "    <tr>\n",
       "      <th>d</th>\n",
       "      <td>-0.125797</td>\n",
       "      <td>-0.126875</td>\n",
       "      <td>1.914849</td>\n",
       "      <td>-0.870794</td>\n",
       "    </tr>\n",
       "    <tr>\n",
       "      <th>e</th>\n",
       "      <td>-0.900229</td>\n",
       "      <td>-0.752164</td>\n",
       "      <td>-0.556024</td>\n",
       "      <td>1.118682</td>\n",
       "    </tr>\n",
       "  </tbody>\n",
       "</table>\n",
       "</div>"
      ],
      "text/plain": [
       "          0         1         2         3\n",
       "a -1.462043  1.635072  2.194328 -0.805734\n",
       "b  0.745109  0.293267  0.099090 -0.356776\n",
       "c  0.088130  1.765762  1.527496  1.447501\n",
       "d -0.125797 -0.126875  1.914849 -0.870794\n",
       "e -0.900229 -0.752164 -0.556024  1.118682"
      ]
     },
     "execution_count": 18,
     "metadata": {},
     "output_type": "execute_result"
    }
   ],
   "source": [
    "df"
   ]
  },
  {
   "cell_type": "code",
   "execution_count": 19,
   "id": "b1a28b58",
   "metadata": {},
   "outputs": [
    {
     "data": {
      "text/plain": [
       "pandas.core.frame.DataFrame"
      ]
     },
     "execution_count": 19,
     "metadata": {},
     "output_type": "execute_result"
    }
   ],
   "source": [
    "type(df)"
   ]
  },
  {
   "cell_type": "code",
   "execution_count": 20,
   "id": "16e808ba",
   "metadata": {
    "scrolled": true
   },
   "outputs": [
    {
     "name": "stdout",
     "output_type": "stream",
     "text": [
      "<class 'pandas.core.frame.DataFrame'>\n",
      "Index: 5 entries, a to e\n",
      "Data columns (total 4 columns):\n",
      " #   Column  Non-Null Count  Dtype  \n",
      "---  ------  --------------  -----  \n",
      " 0   0       5 non-null      float64\n",
      " 1   1       5 non-null      float64\n",
      " 2   2       5 non-null      float64\n",
      " 3   3       5 non-null      float64\n",
      "dtypes: float64(4)\n",
      "memory usage: 200.0+ bytes\n"
     ]
    }
   ],
   "source": [
    "df.info()"
   ]
  },
  {
   "cell_type": "code",
   "execution_count": 21,
   "id": "67c4b9ac",
   "metadata": {
    "scrolled": true
   },
   "outputs": [
    {
     "data": {
      "text/plain": [
       "array([[-1.46204263,  1.63507201,  2.1943281 , -0.8057342 ],\n",
       "       [ 0.74510917,  0.29326731,  0.09908983, -0.35677613],\n",
       "       [ 0.08812981,  1.76576218,  1.52749602,  1.44750053],\n",
       "       [-0.12579712, -0.12687485,  1.91484864, -0.87079421],\n",
       "       [-0.90022933, -0.75216432, -0.55602387,  1.11868211]])"
      ]
     },
     "execution_count": 21,
     "metadata": {},
     "output_type": "execute_result"
    }
   ],
   "source": [
    "df.values"
   ]
  },
  {
   "cell_type": "code",
   "execution_count": 22,
   "id": "f1dcab09",
   "metadata": {
    "scrolled": true
   },
   "outputs": [
    {
     "data": {
      "text/plain": [
       "[Index(['a', 'b', 'c', 'd', 'e'], dtype='object'),\n",
       " RangeIndex(start=0, stop=4, step=1)]"
      ]
     },
     "execution_count": 22,
     "metadata": {},
     "output_type": "execute_result"
    }
   ],
   "source": [
    "df.axes"
   ]
  },
  {
   "cell_type": "code",
   "execution_count": 23,
   "id": "cfc63959",
   "metadata": {},
   "outputs": [
    {
     "data": {
      "text/plain": [
       "20"
      ]
     },
     "execution_count": 23,
     "metadata": {},
     "output_type": "execute_result"
    }
   ],
   "source": [
    "df.size"
   ]
  },
  {
   "cell_type": "code",
   "execution_count": 24,
   "id": "45f6e76b",
   "metadata": {},
   "outputs": [
    {
     "data": {
      "text/plain": [
       "a   -1.462043\n",
       "b    0.745109\n",
       "c    0.088130\n",
       "d   -0.125797\n",
       "e   -0.900229\n",
       "Name: 0, dtype: float64"
      ]
     },
     "execution_count": 24,
     "metadata": {},
     "output_type": "execute_result"
    }
   ],
   "source": [
    "df[0]"
   ]
  },
  {
   "cell_type": "code",
   "execution_count": 25,
   "id": "a1590017",
   "metadata": {},
   "outputs": [],
   "source": [
    "df[\"new\"]=df[0]"
   ]
  },
  {
   "cell_type": "code",
   "execution_count": 26,
   "id": "c6fb0b6e",
   "metadata": {
    "scrolled": true
   },
   "outputs": [
    {
     "data": {
      "text/html": [
       "<div>\n",
       "<style scoped>\n",
       "    .dataframe tbody tr th:only-of-type {\n",
       "        vertical-align: middle;\n",
       "    }\n",
       "\n",
       "    .dataframe tbody tr th {\n",
       "        vertical-align: top;\n",
       "    }\n",
       "\n",
       "    .dataframe thead th {\n",
       "        text-align: right;\n",
       "    }\n",
       "</style>\n",
       "<table border=\"1\" class=\"dataframe\">\n",
       "  <thead>\n",
       "    <tr style=\"text-align: right;\">\n",
       "      <th></th>\n",
       "      <th>0</th>\n",
       "      <th>1</th>\n",
       "      <th>2</th>\n",
       "      <th>3</th>\n",
       "      <th>new</th>\n",
       "    </tr>\n",
       "  </thead>\n",
       "  <tbody>\n",
       "    <tr>\n",
       "      <th>a</th>\n",
       "      <td>-1.462043</td>\n",
       "      <td>1.635072</td>\n",
       "      <td>2.194328</td>\n",
       "      <td>-0.805734</td>\n",
       "      <td>-1.462043</td>\n",
       "    </tr>\n",
       "    <tr>\n",
       "      <th>b</th>\n",
       "      <td>0.745109</td>\n",
       "      <td>0.293267</td>\n",
       "      <td>0.099090</td>\n",
       "      <td>-0.356776</td>\n",
       "      <td>0.745109</td>\n",
       "    </tr>\n",
       "    <tr>\n",
       "      <th>c</th>\n",
       "      <td>0.088130</td>\n",
       "      <td>1.765762</td>\n",
       "      <td>1.527496</td>\n",
       "      <td>1.447501</td>\n",
       "      <td>0.088130</td>\n",
       "    </tr>\n",
       "    <tr>\n",
       "      <th>d</th>\n",
       "      <td>-0.125797</td>\n",
       "      <td>-0.126875</td>\n",
       "      <td>1.914849</td>\n",
       "      <td>-0.870794</td>\n",
       "      <td>-0.125797</td>\n",
       "    </tr>\n",
       "    <tr>\n",
       "      <th>e</th>\n",
       "      <td>-0.900229</td>\n",
       "      <td>-0.752164</td>\n",
       "      <td>-0.556024</td>\n",
       "      <td>1.118682</td>\n",
       "      <td>-0.900229</td>\n",
       "    </tr>\n",
       "  </tbody>\n",
       "</table>\n",
       "</div>"
      ],
      "text/plain": [
       "          0         1         2         3       new\n",
       "a -1.462043  1.635072  2.194328 -0.805734 -1.462043\n",
       "b  0.745109  0.293267  0.099090 -0.356776  0.745109\n",
       "c  0.088130  1.765762  1.527496  1.447501  0.088130\n",
       "d -0.125797 -0.126875  1.914849 -0.870794 -0.125797\n",
       "e -0.900229 -0.752164 -0.556024  1.118682 -0.900229"
      ]
     },
     "execution_count": 26,
     "metadata": {},
     "output_type": "execute_result"
    }
   ],
   "source": [
    "df"
   ]
  },
  {
   "cell_type": "code",
   "execution_count": null,
   "id": "d6730ff4",
   "metadata": {},
   "outputs": [],
   "source": [
    "df.drop('new',axis=1,inplace=True)"
   ]
  },
  {
   "cell_type": "code",
   "execution_count": 27,
   "id": "a4ce5465",
   "metadata": {
    "scrolled": true
   },
   "outputs": [
    {
     "data": {
      "text/html": [
       "<div>\n",
       "<style scoped>\n",
       "    .dataframe tbody tr th:only-of-type {\n",
       "        vertical-align: middle;\n",
       "    }\n",
       "\n",
       "    .dataframe tbody tr th {\n",
       "        vertical-align: top;\n",
       "    }\n",
       "\n",
       "    .dataframe thead th {\n",
       "        text-align: right;\n",
       "    }\n",
       "</style>\n",
       "<table border=\"1\" class=\"dataframe\">\n",
       "  <thead>\n",
       "    <tr style=\"text-align: right;\">\n",
       "      <th></th>\n",
       "      <th>0</th>\n",
       "      <th>1</th>\n",
       "      <th>2</th>\n",
       "      <th>3</th>\n",
       "      <th>new</th>\n",
       "    </tr>\n",
       "  </thead>\n",
       "  <tbody>\n",
       "    <tr>\n",
       "      <th>a</th>\n",
       "      <td>-1.462043</td>\n",
       "      <td>1.635072</td>\n",
       "      <td>2.194328</td>\n",
       "      <td>-0.805734</td>\n",
       "      <td>-1.462043</td>\n",
       "    </tr>\n",
       "    <tr>\n",
       "      <th>b</th>\n",
       "      <td>0.745109</td>\n",
       "      <td>0.293267</td>\n",
       "      <td>0.099090</td>\n",
       "      <td>-0.356776</td>\n",
       "      <td>0.745109</td>\n",
       "    </tr>\n",
       "    <tr>\n",
       "      <th>c</th>\n",
       "      <td>0.088130</td>\n",
       "      <td>1.765762</td>\n",
       "      <td>1.527496</td>\n",
       "      <td>1.447501</td>\n",
       "      <td>0.088130</td>\n",
       "    </tr>\n",
       "    <tr>\n",
       "      <th>d</th>\n",
       "      <td>-0.125797</td>\n",
       "      <td>-0.126875</td>\n",
       "      <td>1.914849</td>\n",
       "      <td>-0.870794</td>\n",
       "      <td>-0.125797</td>\n",
       "    </tr>\n",
       "    <tr>\n",
       "      <th>e</th>\n",
       "      <td>-0.900229</td>\n",
       "      <td>-0.752164</td>\n",
       "      <td>-0.556024</td>\n",
       "      <td>1.118682</td>\n",
       "      <td>-0.900229</td>\n",
       "    </tr>\n",
       "  </tbody>\n",
       "</table>\n",
       "</div>"
      ],
      "text/plain": [
       "          0         1         2         3       new\n",
       "a -1.462043  1.635072  2.194328 -0.805734 -1.462043\n",
       "b  0.745109  0.293267  0.099090 -0.356776  0.745109\n",
       "c  0.088130  1.765762  1.527496  1.447501  0.088130\n",
       "d -0.125797 -0.126875  1.914849 -0.870794 -0.125797\n",
       "e -0.900229 -0.752164 -0.556024  1.118682 -0.900229"
      ]
     },
     "execution_count": 27,
     "metadata": {},
     "output_type": "execute_result"
    }
   ],
   "source": [
    "df\n"
   ]
  },
  {
   "cell_type": "code",
   "execution_count": 29,
   "id": "ea8c2036",
   "metadata": {},
   "outputs": [
    {
     "data": {
      "text/plain": [
       "usa       5\n",
       "brazil    6\n",
       "canada    7\n",
       "uk        8\n",
       "dtype: int64"
      ]
     },
     "execution_count": 29,
     "metadata": {},
     "output_type": "execute_result"
    }
   ],
   "source": [
    "ser2=pd.Series([5,6,7,8],['usa','brazil','canada','uk'])\n",
    "ser2"
   ]
  },
  {
   "cell_type": "code",
   "execution_count": 30,
   "id": "1108353b",
   "metadata": {},
   "outputs": [
    {
     "data": {
      "text/plain": [
       "australia      NaN\n",
       "brazil         NaN\n",
       "canada         NaN\n",
       "india          NaN\n",
       "newzealand     NaN\n",
       "uk            13.0\n",
       "usa            9.0\n",
       "dtype: float64"
      ]
     },
     "execution_count": 30,
     "metadata": {},
     "output_type": "execute_result"
    }
   ],
   "source": [
    "ser1+ser2"
   ]
  },
  {
   "cell_type": "code",
   "execution_count": 31,
   "id": "3810c8c5",
   "metadata": {},
   "outputs": [
    {
     "data": {
      "text/plain": [
       "0      float64\n",
       "1      float64\n",
       "2      float64\n",
       "3      float64\n",
       "new    float64\n",
       "dtype: object"
      ]
     },
     "execution_count": 31,
     "metadata": {},
     "output_type": "execute_result"
    }
   ],
   "source": [
    "df.dtypes"
   ]
  },
  {
   "cell_type": "code",
   "execution_count": 32,
   "id": "cf14fc56",
   "metadata": {},
   "outputs": [
    {
     "data": {
      "text/plain": [
       "2"
      ]
     },
     "execution_count": 32,
     "metadata": {},
     "output_type": "execute_result"
    }
   ],
   "source": [
    "df.ndim"
   ]
  },
  {
   "cell_type": "code",
   "execution_count": 33,
   "id": "a10b6543",
   "metadata": {},
   "outputs": [
    {
     "data": {
      "text/html": [
       "<div>\n",
       "<style scoped>\n",
       "    .dataframe tbody tr th:only-of-type {\n",
       "        vertical-align: middle;\n",
       "    }\n",
       "\n",
       "    .dataframe tbody tr th {\n",
       "        vertical-align: top;\n",
       "    }\n",
       "\n",
       "    .dataframe thead th {\n",
       "        text-align: right;\n",
       "    }\n",
       "</style>\n",
       "<table border=\"1\" class=\"dataframe\">\n",
       "  <thead>\n",
       "    <tr style=\"text-align: right;\">\n",
       "      <th></th>\n",
       "      <th>0</th>\n",
       "      <th>1</th>\n",
       "      <th>2</th>\n",
       "      <th>3</th>\n",
       "      <th>new</th>\n",
       "    </tr>\n",
       "  </thead>\n",
       "  <tbody>\n",
       "    <tr>\n",
       "      <th>a</th>\n",
       "      <td>-1.462043</td>\n",
       "      <td>1.635072</td>\n",
       "      <td>2.194328</td>\n",
       "      <td>-0.805734</td>\n",
       "      <td>-1.462043</td>\n",
       "    </tr>\n",
       "    <tr>\n",
       "      <th>b</th>\n",
       "      <td>0.745109</td>\n",
       "      <td>0.293267</td>\n",
       "      <td>0.099090</td>\n",
       "      <td>-0.356776</td>\n",
       "      <td>0.745109</td>\n",
       "    </tr>\n",
       "    <tr>\n",
       "      <th>c</th>\n",
       "      <td>0.088130</td>\n",
       "      <td>1.765762</td>\n",
       "      <td>1.527496</td>\n",
       "      <td>1.447501</td>\n",
       "      <td>0.088130</td>\n",
       "    </tr>\n",
       "    <tr>\n",
       "      <th>d</th>\n",
       "      <td>-0.125797</td>\n",
       "      <td>-0.126875</td>\n",
       "      <td>1.914849</td>\n",
       "      <td>-0.870794</td>\n",
       "      <td>-0.125797</td>\n",
       "    </tr>\n",
       "    <tr>\n",
       "      <th>e</th>\n",
       "      <td>-0.900229</td>\n",
       "      <td>-0.752164</td>\n",
       "      <td>-0.556024</td>\n",
       "      <td>1.118682</td>\n",
       "      <td>-0.900229</td>\n",
       "    </tr>\n",
       "  </tbody>\n",
       "</table>\n",
       "</div>"
      ],
      "text/plain": [
       "          0         1         2         3       new\n",
       "a -1.462043  1.635072  2.194328 -0.805734 -1.462043\n",
       "b  0.745109  0.293267  0.099090 -0.356776  0.745109\n",
       "c  0.088130  1.765762  1.527496  1.447501  0.088130\n",
       "d -0.125797 -0.126875  1.914849 -0.870794 -0.125797\n",
       "e -0.900229 -0.752164 -0.556024  1.118682 -0.900229"
      ]
     },
     "execution_count": 33,
     "metadata": {},
     "output_type": "execute_result"
    }
   ],
   "source": [
    "df.index\n",
    "df"
   ]
  },
  {
   "cell_type": "code",
   "execution_count": 34,
   "id": "124bca29",
   "metadata": {},
   "outputs": [
    {
     "data": {
      "text/html": [
       "<div>\n",
       "<style scoped>\n",
       "    .dataframe tbody tr th:only-of-type {\n",
       "        vertical-align: middle;\n",
       "    }\n",
       "\n",
       "    .dataframe tbody tr th {\n",
       "        vertical-align: top;\n",
       "    }\n",
       "\n",
       "    .dataframe thead th {\n",
       "        text-align: right;\n",
       "    }\n",
       "</style>\n",
       "<table border=\"1\" class=\"dataframe\">\n",
       "  <thead>\n",
       "    <tr style=\"text-align: right;\">\n",
       "      <th></th>\n",
       "      <th>0</th>\n",
       "      <th>1</th>\n",
       "      <th>2</th>\n",
       "      <th>3</th>\n",
       "      <th>new</th>\n",
       "    </tr>\n",
       "  </thead>\n",
       "  <tbody>\n",
       "    <tr>\n",
       "      <th>a</th>\n",
       "      <td>-1.462043</td>\n",
       "      <td>1.635072</td>\n",
       "      <td>2.194328</td>\n",
       "      <td>-0.805734</td>\n",
       "      <td>-1.462043</td>\n",
       "    </tr>\n",
       "    <tr>\n",
       "      <th>b</th>\n",
       "      <td>0.745109</td>\n",
       "      <td>0.293267</td>\n",
       "      <td>0.099090</td>\n",
       "      <td>-0.356776</td>\n",
       "      <td>0.745109</td>\n",
       "    </tr>\n",
       "    <tr>\n",
       "      <th>c</th>\n",
       "      <td>0.088130</td>\n",
       "      <td>1.765762</td>\n",
       "      <td>1.527496</td>\n",
       "      <td>1.447501</td>\n",
       "      <td>0.088130</td>\n",
       "    </tr>\n",
       "    <tr>\n",
       "      <th>d</th>\n",
       "      <td>-0.125797</td>\n",
       "      <td>-0.126875</td>\n",
       "      <td>1.914849</td>\n",
       "      <td>-0.870794</td>\n",
       "      <td>-0.125797</td>\n",
       "    </tr>\n",
       "    <tr>\n",
       "      <th>e</th>\n",
       "      <td>-0.900229</td>\n",
       "      <td>-0.752164</td>\n",
       "      <td>-0.556024</td>\n",
       "      <td>1.118682</td>\n",
       "      <td>-0.900229</td>\n",
       "    </tr>\n",
       "  </tbody>\n",
       "</table>\n",
       "</div>"
      ],
      "text/plain": [
       "          0         1         2         3       new\n",
       "a -1.462043  1.635072  2.194328 -0.805734 -1.462043\n",
       "b  0.745109  0.293267  0.099090 -0.356776  0.745109\n",
       "c  0.088130  1.765762  1.527496  1.447501  0.088130\n",
       "d -0.125797 -0.126875  1.914849 -0.870794 -0.125797\n",
       "e -0.900229 -0.752164 -0.556024  1.118682 -0.900229"
      ]
     },
     "execution_count": 34,
     "metadata": {},
     "output_type": "execute_result"
    }
   ],
   "source": [
    "df.columns\n",
    "df"
   ]
  },
  {
   "cell_type": "code",
   "execution_count": null,
   "id": "37c69c1c",
   "metadata": {},
   "outputs": [],
   "source": []
  }
 ],
 "metadata": {
  "kernelspec": {
   "display_name": "Python 3 (ipykernel)",
   "language": "python",
   "name": "python3"
  },
  "language_info": {
   "codemirror_mode": {
    "name": "ipython",
    "version": 3
   },
   "file_extension": ".py",
   "mimetype": "text/x-python",
   "name": "python",
   "nbconvert_exporter": "python",
   "pygments_lexer": "ipython3",
   "version": "3.11.5"
  }
 },
 "nbformat": 4,
 "nbformat_minor": 5
}
