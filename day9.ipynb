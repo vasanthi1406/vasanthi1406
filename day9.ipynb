{
 "cells": [
  {
   "cell_type": "code",
   "execution_count": 116,
   "id": "7457bc4a",
   "metadata": {},
   "outputs": [],
   "source": [
    "#web scrapping using selenium\n",
    "from selenium import webdriver\n",
    "from selenium.webdriver.chrome.service import Service\n",
    "from selenium.webdriver.common.by import By\n",
    "# s = Service(r\"C:\\Users\\user\\Desktop\\chromedriver.exe\")\n",
    "webD = webdriver.Chrome(r\"C:\\Users\\user\\Desktop\\chromedriver.exe\")\n",
    "webD.get(\"https://books.toscrape.com/\")"
   ]
  },
  {
   "cell_type": "code",
   "execution_count": 5,
   "id": "3ed9dad6",
   "metadata": {},
   "outputs": [],
   "source": [
    "#to check the mail is spam or ham mail\n",
    "import numpy as np\n",
    "import pandas as pd\n",
    "import matplotlib.pyplot as plt\n",
    "from sklearn.model_selection import train_test_split\n",
    "from sklearn.linear_model import LogisticRegression\n",
    "from sklearn.metrics import accuracy_score"
   ]
  },
  {
   "cell_type": "code",
   "execution_count": 7,
   "id": "d057ca4d",
   "metadata": {},
   "outputs": [],
   "source": [
    "raw_mail_data=pd.read_csv(r\"C:\\Users\\user\\Downloads\\mail_data.csv\")"
   ]
  },
  {
   "cell_type": "code",
   "execution_count": 8,
   "id": "a7115880",
   "metadata": {},
   "outputs": [
    {
     "data": {
      "text/html": [
       "<div>\n",
       "<style scoped>\n",
       "    .dataframe tbody tr th:only-of-type {\n",
       "        vertical-align: middle;\n",
       "    }\n",
       "\n",
       "    .dataframe tbody tr th {\n",
       "        vertical-align: top;\n",
       "    }\n",
       "\n",
       "    .dataframe thead th {\n",
       "        text-align: right;\n",
       "    }\n",
       "</style>\n",
       "<table border=\"1\" class=\"dataframe\">\n",
       "  <thead>\n",
       "    <tr style=\"text-align: right;\">\n",
       "      <th></th>\n",
       "      <th>Category</th>\n",
       "      <th>Message</th>\n",
       "    </tr>\n",
       "  </thead>\n",
       "  <tbody>\n",
       "    <tr>\n",
       "      <th>0</th>\n",
       "      <td>ham</td>\n",
       "      <td>Go until jurong point, crazy.. Available only ...</td>\n",
       "    </tr>\n",
       "    <tr>\n",
       "      <th>1</th>\n",
       "      <td>ham</td>\n",
       "      <td>Ok lar... Joking wif u oni...</td>\n",
       "    </tr>\n",
       "    <tr>\n",
       "      <th>2</th>\n",
       "      <td>spam</td>\n",
       "      <td>Free entry in 2 a wkly comp to win FA Cup fina...</td>\n",
       "    </tr>\n",
       "    <tr>\n",
       "      <th>3</th>\n",
       "      <td>ham</td>\n",
       "      <td>U dun say so early hor... U c already then say...</td>\n",
       "    </tr>\n",
       "    <tr>\n",
       "      <th>4</th>\n",
       "      <td>ham</td>\n",
       "      <td>Nah I don't think he goes to usf, he lives aro...</td>\n",
       "    </tr>\n",
       "  </tbody>\n",
       "</table>\n",
       "</div>"
      ],
      "text/plain": [
       "  Category                                            Message\n",
       "0      ham  Go until jurong point, crazy.. Available only ...\n",
       "1      ham                      Ok lar... Joking wif u oni...\n",
       "2     spam  Free entry in 2 a wkly comp to win FA Cup fina...\n",
       "3      ham  U dun say so early hor... U c already then say...\n",
       "4      ham  Nah I don't think he goes to usf, he lives aro..."
      ]
     },
     "execution_count": 8,
     "metadata": {},
     "output_type": "execute_result"
    }
   ],
   "source": [
    "raw_mail_data.head()"
   ]
  },
  {
   "cell_type": "code",
   "execution_count": 9,
   "id": "95f40471",
   "metadata": {},
   "outputs": [
    {
     "data": {
      "text/plain": [
       "Category    0\n",
       "Message     0\n",
       "dtype: int64"
      ]
     },
     "execution_count": 9,
     "metadata": {},
     "output_type": "execute_result"
    }
   ],
   "source": [
    "#to check NAN field in column\n",
    "raw_mail_data.isna().sum()"
   ]
  },
  {
   "cell_type": "code",
   "execution_count": 10,
   "id": "06f42be1",
   "metadata": {},
   "outputs": [],
   "source": [
    "#to convert cateogary field to numerical field 'spam'=0\n",
    "raw_mail_data.loc[raw_mail_data['Category']=='spam','Category']=0"
   ]
  },
  {
   "cell_type": "code",
   "execution_count": 11,
   "id": "75b3f580",
   "metadata": {},
   "outputs": [
    {
     "data": {
      "text/plain": [
       "0       ham\n",
       "1       ham\n",
       "2         0\n",
       "3       ham\n",
       "4       ham\n",
       "       ... \n",
       "5567      0\n",
       "5568    ham\n",
       "5569    ham\n",
       "5570    ham\n",
       "5571    ham\n",
       "Name: Category, Length: 5572, dtype: object"
      ]
     },
     "execution_count": 11,
     "metadata": {},
     "output_type": "execute_result"
    }
   ],
   "source": [
    "raw_mail_data['Category']"
   ]
  },
  {
   "cell_type": "code",
   "execution_count": 36,
   "id": "a5cb0963",
   "metadata": {},
   "outputs": [],
   "source": [
    "raw_mail_data.loc[raw_mail_data['Category']=='ham','Category']=1"
   ]
  },
  {
   "cell_type": "code",
   "execution_count": 37,
   "id": "d2184f93",
   "metadata": {},
   "outputs": [
    {
     "data": {
      "text/plain": [
       "0       1\n",
       "1       1\n",
       "2       0\n",
       "3       1\n",
       "4       1\n",
       "       ..\n",
       "5567    0\n",
       "5568    1\n",
       "5569    1\n",
       "5570    1\n",
       "5571    1\n",
       "Name: Category, Length: 5572, dtype: object"
      ]
     },
     "execution_count": 37,
     "metadata": {},
     "output_type": "execute_result"
    }
   ],
   "source": [
    "raw_mail_data['Category']"
   ]
  },
  {
   "cell_type": "code",
   "execution_count": 38,
   "id": "8e7720c3",
   "metadata": {},
   "outputs": [],
   "source": [
    "Y=raw_mail_data['Category']"
   ]
  },
  {
   "cell_type": "code",
   "execution_count": 39,
   "id": "9363e532",
   "metadata": {},
   "outputs": [],
   "source": [
    "X=raw_mail_data['Message']"
   ]
  },
  {
   "cell_type": "code",
   "execution_count": 40,
   "id": "55d70bbc",
   "metadata": {},
   "outputs": [
    {
     "data": {
      "text/plain": [
       "0       Go until jurong point, crazy.. Available only ...\n",
       "1                           Ok lar... Joking wif u oni...\n",
       "2       Free entry in 2 a wkly comp to win FA Cup fina...\n",
       "3       U dun say so early hor... U c already then say...\n",
       "4       Nah I don't think he goes to usf, he lives aro...\n",
       "                              ...                        \n",
       "5567    This is the 2nd time we have tried 2 contact u...\n",
       "5568                 Will ü b going to esplanade fr home?\n",
       "5569    Pity, * was in mood for that. So...any other s...\n",
       "5570    The guy did some bitching but I acted like i'd...\n",
       "5571                           Rofl. Its true to its name\n",
       "Name: Message, Length: 5572, dtype: object"
      ]
     },
     "execution_count": 40,
     "metadata": {},
     "output_type": "execute_result"
    }
   ],
   "source": [
    "X"
   ]
  },
  {
   "cell_type": "code",
   "execution_count": 41,
   "id": "46a1e4b5",
   "metadata": {},
   "outputs": [],
   "source": [
    "x_train,x_test,y_train,y_test=train_test_split(X,Y,test_size=0.2)"
   ]
  },
  {
   "cell_type": "code",
   "execution_count": 42,
   "id": "b21c321e",
   "metadata": {},
   "outputs": [
    {
     "data": {
      "text/plain": [
       "(4457,)"
      ]
     },
     "execution_count": 42,
     "metadata": {},
     "output_type": "execute_result"
    }
   ],
   "source": [
    "x_train.shape"
   ]
  },
  {
   "cell_type": "code",
   "execution_count": 43,
   "id": "093d5712",
   "metadata": {},
   "outputs": [
    {
     "data": {
      "text/plain": [
       "(1115,)"
      ]
     },
     "execution_count": 43,
     "metadata": {},
     "output_type": "execute_result"
    }
   ],
   "source": [
    "x_test.shape"
   ]
  },
  {
   "cell_type": "code",
   "execution_count": 44,
   "id": "15ffb9b5",
   "metadata": {},
   "outputs": [
    {
     "data": {
      "text/plain": [
       "(4457,)"
      ]
     },
     "execution_count": 44,
     "metadata": {},
     "output_type": "execute_result"
    }
   ],
   "source": [
    "y_train.shape"
   ]
  },
  {
   "cell_type": "code",
   "execution_count": 45,
   "id": "b3f4c5ff",
   "metadata": {},
   "outputs": [
    {
     "data": {
      "text/plain": [
       "(1115,)"
      ]
     },
     "execution_count": 45,
     "metadata": {},
     "output_type": "execute_result"
    }
   ],
   "source": [
    "y_test.shape"
   ]
  },
  {
   "cell_type": "code",
   "execution_count": 46,
   "id": "8e1668ee",
   "metadata": {},
   "outputs": [],
   "source": [
    "from sklearn.feature_extraction.text import TfidfVectorizer"
   ]
  },
  {
   "cell_type": "code",
   "execution_count": 47,
   "id": "84335bc8",
   "metadata": {},
   "outputs": [],
   "source": [
    "#term frequency inverse document frequency-->it is a numerical representation of text document to capture\n",
    "#the important words in a collection of docuent"
   ]
  },
  {
   "cell_type": "code",
   "execution_count": 48,
   "id": "56deeb88",
   "metadata": {},
   "outputs": [],
   "source": [
    "feature_extraction=TfidfVectorizer()\n",
    "x_train_feature=feature_extraction.fit_transform(x_train)"
   ]
  },
  {
   "cell_type": "code",
   "execution_count": 49,
   "id": "95823b3a",
   "metadata": {},
   "outputs": [
    {
     "name": "stdout",
     "output_type": "stream",
     "text": [
      "  (0, 5206)\t0.4478814031087432\n",
      "  (0, 6823)\t0.2507315540844364\n",
      "  (0, 1150)\t0.7320779912585068\n",
      "  (0, 5267)\t0.4478814031087432\n",
      "  (1, 4861)\t0.22426525924807117\n",
      "  (1, 1047)\t0.507458615676081\n",
      "  (1, 4352)\t0.32530779985422403\n",
      "  (1, 4185)\t0.2619372751268841\n",
      "  (1, 5799)\t0.6657565998414081\n",
      "  (1, 7715)\t0.2105134392580141\n",
      "  (1, 6823)\t0.17380100052355185\n",
      "  (2, 2825)\t0.6316412038782898\n",
      "  (2, 2354)\t0.5651873640521244\n",
      "  (2, 4653)\t0.35802231594110656\n",
      "  (2, 6820)\t0.2443629728716814\n",
      "  (2, 954)\t0.3061035639395212\n",
      "  (3, 5104)\t0.4804651955309965\n",
      "  (3, 7549)\t0.2616972436146277\n",
      "  (3, 4954)\t0.23518179115237403\n",
      "  (3, 6709)\t0.39364908993633574\n",
      "  (3, 1658)\t0.24293442694095815\n",
      "  (3, 6440)\t0.5695871720047087\n",
      "  (3, 5206)\t0.3270336150383781\n",
      "  (4, 7026)\t0.3004072810116211\n",
      "  (4, 1601)\t0.22461914310413314\n",
      "  :\t:\n",
      "  (4454, 3980)\t0.07012028590077536\n",
      "  (4454, 3428)\t0.1694585944025577\n",
      "  (4454, 6836)\t0.07244016940987343\n",
      "  (4454, 3257)\t0.085355192686507\n",
      "  (4454, 1602)\t0.06105799928782651\n",
      "  (4454, 6940)\t0.03717361003107893\n",
      "  (4454, 3769)\t0.05098570236278411\n",
      "  (4454, 3660)\t0.04912137925284971\n",
      "  (4454, 6823)\t0.18151244977996775\n",
      "  (4455, 1591)\t0.4087593465628329\n",
      "  (4455, 2617)\t0.37622744187512674\n",
      "  (4455, 4582)\t0.38972940224349\n",
      "  (4455, 7580)\t0.3174307438138924\n",
      "  (4455, 6200)\t0.2744259050270159\n",
      "  (4455, 7695)\t0.30309807826290797\n",
      "  (4455, 1318)\t0.22331318497425284\n",
      "  (4455, 3501)\t0.22805799146066133\n",
      "  (4455, 3373)\t0.15626130164020158\n",
      "  (4455, 6813)\t0.2507199718546552\n",
      "  (4455, 7709)\t0.21048660266425603\n",
      "  (4455, 2958)\t0.14961721145137907\n",
      "  (4455, 6823)\t0.12526834195684883\n",
      "  (4456, 2001)\t0.8753691525209388\n",
      "  (4456, 6861)\t0.38652250154925505\n",
      "  (4456, 3660)\t0.29039490803194123\n"
     ]
    }
   ],
   "source": [
    "print(x_train_feature)"
   ]
  },
  {
   "cell_type": "code",
   "execution_count": 50,
   "id": "c74a115f",
   "metadata": {},
   "outputs": [],
   "source": [
    "x_test_feature=feature_extraction.transform(x_test)"
   ]
  },
  {
   "cell_type": "code",
   "execution_count": 51,
   "id": "117092a4",
   "metadata": {},
   "outputs": [
    {
     "name": "stdout",
     "output_type": "stream",
     "text": [
      "  (0, 7709)\t0.10541493624030529\n",
      "  (0, 7696)\t0.276236158278415\n",
      "  (0, 6820)\t0.15839458531117667\n",
      "  (0, 6170)\t0.36635099458854165\n",
      "  (0, 5485)\t0.39036498825534416\n",
      "  (0, 4683)\t0.15014412360990842\n",
      "  (0, 4535)\t0.2503252438032818\n",
      "  (0, 4250)\t0.20936893828805622\n",
      "  (0, 3853)\t0.27763955081523917\n",
      "  (0, 3532)\t0.1863659547428011\n",
      "  (0, 3203)\t0.19634774563182691\n",
      "  (0, 3186)\t0.29670052991498636\n",
      "  (0, 2197)\t0.20255292077759754\n",
      "  (0, 1211)\t0.24365119928318318\n",
      "  (0, 1014)\t0.22505337820327395\n",
      "  (0, 872)\t0.2870731120653861\n",
      "  (1, 7709)\t0.20071965361594893\n",
      "  (1, 7520)\t0.33410883614155124\n",
      "  (1, 6947)\t0.41384198572102204\n",
      "  (1, 4963)\t0.5829072324117635\n",
      "  (1, 4794)\t0.44291323252245585\n",
      "  (1, 1920)\t0.3753195225104607\n",
      "  (2, 7715)\t0.22061826023134495\n",
      "  (2, 6940)\t0.1492114713328407\n",
      "  (2, 5945)\t0.427674754580582\n",
      "  :\t:\n",
      "  (1111, 2187)\t0.3020471287165003\n",
      "  (1111, 1658)\t0.1762284688702962\n",
      "  (1111, 1634)\t0.16475793673881173\n",
      "  (1111, 1137)\t0.18404075397946695\n",
      "  (1111, 258)\t0.597228281472008\n",
      "  (1112, 7549)\t0.2548103932349737\n",
      "  (1112, 6842)\t0.5816781016759165\n",
      "  (1112, 3553)\t0.5816781016759165\n",
      "  (1112, 2709)\t0.5083038811192004\n",
      "  (1113, 7494)\t0.33146323285817425\n",
      "  (1113, 7455)\t0.49572515863762256\n",
      "  (1113, 5303)\t0.41296576958838904\n",
      "  (1113, 4959)\t0.26716185220818883\n",
      "  (1113, 3980)\t0.2462160555073573\n",
      "  (1113, 3780)\t0.19262176869703682\n",
      "  (1113, 3769)\t0.1790280567423933\n",
      "  (1113, 3308)\t0.29609178372421113\n",
      "  (1113, 1305)\t0.3691490722013079\n",
      "  (1113, 1137)\t0.2208044190392603\n",
      "  (1114, 7709)\t0.17114497752495303\n",
      "  (1114, 7266)\t0.38608983379275885\n",
      "  (1114, 6813)\t0.40771681812515226\n",
      "  (1114, 5823)\t0.5691036755238591\n",
      "  (1114, 4253)\t0.5218569316823783\n",
      "  (1114, 2958)\t0.2433051221985518\n"
     ]
    }
   ],
   "source": [
    "print(x_test_feature)"
   ]
  },
  {
   "cell_type": "code",
   "execution_count": 52,
   "id": "ffae6cd7",
   "metadata": {},
   "outputs": [
    {
     "data": {
      "text/plain": [
       "dtype('O')"
      ]
     },
     "execution_count": 52,
     "metadata": {},
     "output_type": "execute_result"
    }
   ],
   "source": [
    "#check the type of y_train and y_test\n",
    "y_train.dtype"
   ]
  },
  {
   "cell_type": "code",
   "execution_count": 53,
   "id": "5146d492",
   "metadata": {},
   "outputs": [],
   "source": [
    "y_train=y_train.astype('int')\n",
    "y_test=y_test.astype('int')"
   ]
  },
  {
   "cell_type": "code",
   "execution_count": 54,
   "id": "aa34aac7",
   "metadata": {},
   "outputs": [
    {
     "data": {
      "text/plain": [
       "dtype('int32')"
      ]
     },
     "execution_count": 54,
     "metadata": {},
     "output_type": "execute_result"
    }
   ],
   "source": [
    "y_train.dtype"
   ]
  },
  {
   "cell_type": "code",
   "execution_count": 55,
   "id": "8ce83097",
   "metadata": {},
   "outputs": [
    {
     "data": {
      "text/plain": [
       "dtype('int32')"
      ]
     },
     "execution_count": 55,
     "metadata": {},
     "output_type": "execute_result"
    }
   ],
   "source": [
    "y_test.dtype"
   ]
  },
  {
   "cell_type": "code",
   "execution_count": 57,
   "id": "9506f525",
   "metadata": {},
   "outputs": [],
   "source": [
    "#create instance for logistic regression\n",
    "model=LogisticRegression()"
   ]
  },
  {
   "cell_type": "code",
   "execution_count": 58,
   "id": "14c8a023",
   "metadata": {},
   "outputs": [
    {
     "data": {
      "text/html": [
       "<style>#sk-container-id-1 {color: black;background-color: white;}#sk-container-id-1 pre{padding: 0;}#sk-container-id-1 div.sk-toggleable {background-color: white;}#sk-container-id-1 label.sk-toggleable__label {cursor: pointer;display: block;width: 100%;margin-bottom: 0;padding: 0.3em;box-sizing: border-box;text-align: center;}#sk-container-id-1 label.sk-toggleable__label-arrow:before {content: \"▸\";float: left;margin-right: 0.25em;color: #696969;}#sk-container-id-1 label.sk-toggleable__label-arrow:hover:before {color: black;}#sk-container-id-1 div.sk-estimator:hover label.sk-toggleable__label-arrow:before {color: black;}#sk-container-id-1 div.sk-toggleable__content {max-height: 0;max-width: 0;overflow: hidden;text-align: left;background-color: #f0f8ff;}#sk-container-id-1 div.sk-toggleable__content pre {margin: 0.2em;color: black;border-radius: 0.25em;background-color: #f0f8ff;}#sk-container-id-1 input.sk-toggleable__control:checked~div.sk-toggleable__content {max-height: 200px;max-width: 100%;overflow: auto;}#sk-container-id-1 input.sk-toggleable__control:checked~label.sk-toggleable__label-arrow:before {content: \"▾\";}#sk-container-id-1 div.sk-estimator input.sk-toggleable__control:checked~label.sk-toggleable__label {background-color: #d4ebff;}#sk-container-id-1 div.sk-label input.sk-toggleable__control:checked~label.sk-toggleable__label {background-color: #d4ebff;}#sk-container-id-1 input.sk-hidden--visually {border: 0;clip: rect(1px 1px 1px 1px);clip: rect(1px, 1px, 1px, 1px);height: 1px;margin: -1px;overflow: hidden;padding: 0;position: absolute;width: 1px;}#sk-container-id-1 div.sk-estimator {font-family: monospace;background-color: #f0f8ff;border: 1px dotted black;border-radius: 0.25em;box-sizing: border-box;margin-bottom: 0.5em;}#sk-container-id-1 div.sk-estimator:hover {background-color: #d4ebff;}#sk-container-id-1 div.sk-parallel-item::after {content: \"\";width: 100%;border-bottom: 1px solid gray;flex-grow: 1;}#sk-container-id-1 div.sk-label:hover label.sk-toggleable__label {background-color: #d4ebff;}#sk-container-id-1 div.sk-serial::before {content: \"\";position: absolute;border-left: 1px solid gray;box-sizing: border-box;top: 0;bottom: 0;left: 50%;z-index: 0;}#sk-container-id-1 div.sk-serial {display: flex;flex-direction: column;align-items: center;background-color: white;padding-right: 0.2em;padding-left: 0.2em;position: relative;}#sk-container-id-1 div.sk-item {position: relative;z-index: 1;}#sk-container-id-1 div.sk-parallel {display: flex;align-items: stretch;justify-content: center;background-color: white;position: relative;}#sk-container-id-1 div.sk-item::before, #sk-container-id-1 div.sk-parallel-item::before {content: \"\";position: absolute;border-left: 1px solid gray;box-sizing: border-box;top: 0;bottom: 0;left: 50%;z-index: -1;}#sk-container-id-1 div.sk-parallel-item {display: flex;flex-direction: column;z-index: 1;position: relative;background-color: white;}#sk-container-id-1 div.sk-parallel-item:first-child::after {align-self: flex-end;width: 50%;}#sk-container-id-1 div.sk-parallel-item:last-child::after {align-self: flex-start;width: 50%;}#sk-container-id-1 div.sk-parallel-item:only-child::after {width: 0;}#sk-container-id-1 div.sk-dashed-wrapped {border: 1px dashed gray;margin: 0 0.4em 0.5em 0.4em;box-sizing: border-box;padding-bottom: 0.4em;background-color: white;}#sk-container-id-1 div.sk-label label {font-family: monospace;font-weight: bold;display: inline-block;line-height: 1.2em;}#sk-container-id-1 div.sk-label-container {text-align: center;}#sk-container-id-1 div.sk-container {/* jupyter's `normalize.less` sets `[hidden] { display: none; }` but bootstrap.min.css set `[hidden] { display: none !important; }` so we also need the `!important` here to be able to override the default hidden behavior on the sphinx rendered scikit-learn.org. See: https://github.com/scikit-learn/scikit-learn/issues/21755 */display: inline-block !important;position: relative;}#sk-container-id-1 div.sk-text-repr-fallback {display: none;}</style><div id=\"sk-container-id-1\" class=\"sk-top-container\"><div class=\"sk-text-repr-fallback\"><pre>LogisticRegression()</pre><b>In a Jupyter environment, please rerun this cell to show the HTML representation or trust the notebook. <br />On GitHub, the HTML representation is unable to render, please try loading this page with nbviewer.org.</b></div><div class=\"sk-container\" hidden><div class=\"sk-item\"><div class=\"sk-estimator sk-toggleable\"><input class=\"sk-toggleable__control sk-hidden--visually\" id=\"sk-estimator-id-1\" type=\"checkbox\" checked><label for=\"sk-estimator-id-1\" class=\"sk-toggleable__label sk-toggleable__label-arrow\">LogisticRegression</label><div class=\"sk-toggleable__content\"><pre>LogisticRegression()</pre></div></div></div></div></div>"
      ],
      "text/plain": [
       "LogisticRegression()"
      ]
     },
     "execution_count": 58,
     "metadata": {},
     "output_type": "execute_result"
    }
   ],
   "source": [
    "model"
   ]
  },
  {
   "cell_type": "code",
   "execution_count": 59,
   "id": "7e8ee3e2",
   "metadata": {},
   "outputs": [
    {
     "data": {
      "text/html": [
       "<style>#sk-container-id-2 {color: black;background-color: white;}#sk-container-id-2 pre{padding: 0;}#sk-container-id-2 div.sk-toggleable {background-color: white;}#sk-container-id-2 label.sk-toggleable__label {cursor: pointer;display: block;width: 100%;margin-bottom: 0;padding: 0.3em;box-sizing: border-box;text-align: center;}#sk-container-id-2 label.sk-toggleable__label-arrow:before {content: \"▸\";float: left;margin-right: 0.25em;color: #696969;}#sk-container-id-2 label.sk-toggleable__label-arrow:hover:before {color: black;}#sk-container-id-2 div.sk-estimator:hover label.sk-toggleable__label-arrow:before {color: black;}#sk-container-id-2 div.sk-toggleable__content {max-height: 0;max-width: 0;overflow: hidden;text-align: left;background-color: #f0f8ff;}#sk-container-id-2 div.sk-toggleable__content pre {margin: 0.2em;color: black;border-radius: 0.25em;background-color: #f0f8ff;}#sk-container-id-2 input.sk-toggleable__control:checked~div.sk-toggleable__content {max-height: 200px;max-width: 100%;overflow: auto;}#sk-container-id-2 input.sk-toggleable__control:checked~label.sk-toggleable__label-arrow:before {content: \"▾\";}#sk-container-id-2 div.sk-estimator input.sk-toggleable__control:checked~label.sk-toggleable__label {background-color: #d4ebff;}#sk-container-id-2 div.sk-label input.sk-toggleable__control:checked~label.sk-toggleable__label {background-color: #d4ebff;}#sk-container-id-2 input.sk-hidden--visually {border: 0;clip: rect(1px 1px 1px 1px);clip: rect(1px, 1px, 1px, 1px);height: 1px;margin: -1px;overflow: hidden;padding: 0;position: absolute;width: 1px;}#sk-container-id-2 div.sk-estimator {font-family: monospace;background-color: #f0f8ff;border: 1px dotted black;border-radius: 0.25em;box-sizing: border-box;margin-bottom: 0.5em;}#sk-container-id-2 div.sk-estimator:hover {background-color: #d4ebff;}#sk-container-id-2 div.sk-parallel-item::after {content: \"\";width: 100%;border-bottom: 1px solid gray;flex-grow: 1;}#sk-container-id-2 div.sk-label:hover label.sk-toggleable__label {background-color: #d4ebff;}#sk-container-id-2 div.sk-serial::before {content: \"\";position: absolute;border-left: 1px solid gray;box-sizing: border-box;top: 0;bottom: 0;left: 50%;z-index: 0;}#sk-container-id-2 div.sk-serial {display: flex;flex-direction: column;align-items: center;background-color: white;padding-right: 0.2em;padding-left: 0.2em;position: relative;}#sk-container-id-2 div.sk-item {position: relative;z-index: 1;}#sk-container-id-2 div.sk-parallel {display: flex;align-items: stretch;justify-content: center;background-color: white;position: relative;}#sk-container-id-2 div.sk-item::before, #sk-container-id-2 div.sk-parallel-item::before {content: \"\";position: absolute;border-left: 1px solid gray;box-sizing: border-box;top: 0;bottom: 0;left: 50%;z-index: -1;}#sk-container-id-2 div.sk-parallel-item {display: flex;flex-direction: column;z-index: 1;position: relative;background-color: white;}#sk-container-id-2 div.sk-parallel-item:first-child::after {align-self: flex-end;width: 50%;}#sk-container-id-2 div.sk-parallel-item:last-child::after {align-self: flex-start;width: 50%;}#sk-container-id-2 div.sk-parallel-item:only-child::after {width: 0;}#sk-container-id-2 div.sk-dashed-wrapped {border: 1px dashed gray;margin: 0 0.4em 0.5em 0.4em;box-sizing: border-box;padding-bottom: 0.4em;background-color: white;}#sk-container-id-2 div.sk-label label {font-family: monospace;font-weight: bold;display: inline-block;line-height: 1.2em;}#sk-container-id-2 div.sk-label-container {text-align: center;}#sk-container-id-2 div.sk-container {/* jupyter's `normalize.less` sets `[hidden] { display: none; }` but bootstrap.min.css set `[hidden] { display: none !important; }` so we also need the `!important` here to be able to override the default hidden behavior on the sphinx rendered scikit-learn.org. See: https://github.com/scikit-learn/scikit-learn/issues/21755 */display: inline-block !important;position: relative;}#sk-container-id-2 div.sk-text-repr-fallback {display: none;}</style><div id=\"sk-container-id-2\" class=\"sk-top-container\"><div class=\"sk-text-repr-fallback\"><pre>LogisticRegression()</pre><b>In a Jupyter environment, please rerun this cell to show the HTML representation or trust the notebook. <br />On GitHub, the HTML representation is unable to render, please try loading this page with nbviewer.org.</b></div><div class=\"sk-container\" hidden><div class=\"sk-item\"><div class=\"sk-estimator sk-toggleable\"><input class=\"sk-toggleable__control sk-hidden--visually\" id=\"sk-estimator-id-2\" type=\"checkbox\" checked><label for=\"sk-estimator-id-2\" class=\"sk-toggleable__label sk-toggleable__label-arrow\">LogisticRegression</label><div class=\"sk-toggleable__content\"><pre>LogisticRegression()</pre></div></div></div></div></div>"
      ],
      "text/plain": [
       "LogisticRegression()"
      ]
     },
     "execution_count": 59,
     "metadata": {},
     "output_type": "execute_result"
    }
   ],
   "source": [
    "model.fit(x_train_feature,y_train)"
   ]
  },
  {
   "cell_type": "code",
   "execution_count": 60,
   "id": "be2ee98b",
   "metadata": {},
   "outputs": [
    {
     "data": {
      "text/plain": [
       "array([1, 1, 1, ..., 1, 1, 1])"
      ]
     },
     "execution_count": 60,
     "metadata": {},
     "output_type": "execute_result"
    }
   ],
   "source": [
    "#process of testing the model\n",
    "prediction=model.predict(x_test_feature)\n",
    "prediction"
   ]
  },
  {
   "cell_type": "code",
   "execution_count": 61,
   "id": "f90d252a",
   "metadata": {},
   "outputs": [],
   "source": [
    "acc=accuracy_score(prediction,y_test)"
   ]
  },
  {
   "cell_type": "code",
   "execution_count": 62,
   "id": "06f8b38f",
   "metadata": {},
   "outputs": [
    {
     "name": "stdout",
     "output_type": "stream",
     "text": [
      "the accuracy of the above model is =  0.9739910313901345\n"
     ]
    }
   ],
   "source": [
    "print(\"the accuracy of the above model is = \",acc)"
   ]
  },
  {
   "cell_type": "code",
   "execution_count": 64,
   "id": "8f940d8c",
   "metadata": {},
   "outputs": [
    {
     "data": {
      "text/plain": [
       "\"They don't put that stuff on the roads to keep it from getting slippery over there?\""
      ]
     },
     "execution_count": 64,
     "metadata": {},
     "output_type": "execute_result"
    }
   ],
   "source": [
    "#--->real time verification\n",
    "#input mail=[\"\"]\n",
    "raw_mail_data['Message'][467]"
   ]
  },
  {
   "cell_type": "code",
   "execution_count": 65,
   "id": "072a0c67",
   "metadata": {},
   "outputs": [
    {
     "data": {
      "text/plain": [
       "1"
      ]
     },
     "execution_count": 65,
     "metadata": {},
     "output_type": "execute_result"
    }
   ],
   "source": [
    "raw_mail_data['Category'][467]"
   ]
  },
  {
   "cell_type": "code",
   "execution_count": 67,
   "id": "5e35b6cb",
   "metadata": {},
   "outputs": [],
   "source": [
    "input_mail=[\"They don't put that stuff on the roads to keep it from getting slippery over there?\"]"
   ]
  },
  {
   "cell_type": "code",
   "execution_count": 68,
   "id": "34002ee1",
   "metadata": {},
   "outputs": [],
   "source": [
    "input_data_feature=feature_extraction.transform(input_mail)"
   ]
  },
  {
   "cell_type": "code",
   "execution_count": 69,
   "id": "04d7e3d7",
   "metadata": {},
   "outputs": [
    {
     "name": "stdout",
     "output_type": "stream",
     "text": [
      "  (0, 6940)\t0.10571032046875234\n",
      "  (0, 6849)\t0.23702944553875657\n",
      "  (0, 6841)\t0.20571566610993894\n",
      "  (0, 6823)\t0.12904140342615927\n",
      "  (0, 6820)\t0.16289974038670255\n",
      "  (0, 6556)\t0.28000491780189546\n",
      "  (0, 6248)\t0.4210711095880672\n",
      "  (0, 5818)\t0.38755934938233444\n",
      "  (0, 5528)\t0.2952382200160625\n",
      "  (0, 5048)\t0.2644899119487299\n",
      "  (0, 4954)\t0.16576560148154645\n",
      "  (0, 3930)\t0.26083932941107807\n",
      "  (0, 3780)\t0.15599666931178216\n",
      "  (0, 3144)\t0.27745973804444074\n",
      "  (0, 3038)\t0.19316098295874656\n",
      "  (0, 2422)\t0.22352539024759793\n"
     ]
    }
   ],
   "source": [
    "print(input_data_feature)"
   ]
  },
  {
   "cell_type": "code",
   "execution_count": 70,
   "id": "a791e1a2",
   "metadata": {},
   "outputs": [],
   "source": [
    "prediction=model.predict(input_data_feature)"
   ]
  },
  {
   "cell_type": "code",
   "execution_count": 71,
   "id": "5e70ca42",
   "metadata": {},
   "outputs": [
    {
     "data": {
      "text/plain": [
       "array([1])"
      ]
     },
     "execution_count": 71,
     "metadata": {},
     "output_type": "execute_result"
    }
   ],
   "source": [
    "prediction"
   ]
  },
  {
   "cell_type": "code",
   "execution_count": 72,
   "id": "c966c597",
   "metadata": {},
   "outputs": [
    {
     "name": "stdout",
     "output_type": "stream",
     "text": [
      "its ham mail\n"
     ]
    }
   ],
   "source": [
    "if prediction[0]==1:\n",
    "    print(\"its ham mail\")\n",
    "else:\n",
    "    print(\"its spsm mail\")"
   ]
  },
  {
   "cell_type": "code",
   "execution_count": 84,
   "id": "5cca2332",
   "metadata": {},
   "outputs": [],
   "source": [
    "#web scrapping using selenium"
   ]
  },
  {
   "cell_type": "code",
   "execution_count": 83,
   "id": "bdd6b782",
   "metadata": {},
   "outputs": [],
   "source": [
    "#to retrive the elements from webpage\n",
    "#to find element by name attribute\n",
    "#--->element=webD.find_element_by_name(\"element name\")\n",
    "#to find element by link\n",
    "#--->element=webD.find_element_by_link('link')\n",
    "#to find element by tagname\n",
    "#--->element=webD.find_element_by_tag_name('link')\n",
    "#to find element by xpath\n",
    "#--->element=webD.find_element_by_xpath('xpath')\n",
    "#to find element by class name\n",
    "#--->element=webD.find_element_by_class_name('classname')\n",
    "#to find element by id\n",
    "#--->element=webD.find_element_by_id('id')"
   ]
  },
  {
   "cell_type": "code",
   "execution_count": 87,
   "id": "540dc1ea",
   "metadata": {},
   "outputs": [
    {
     "name": "stdout",
     "output_type": "stream",
     "text": [
      "All products\n"
     ]
    }
   ],
   "source": [
    "#to get the title\n",
    "title=webD.find_element_by_class_name('col-sm-8 h')\n",
    "print(title.text)"
   ]
  },
  {
   "cell_type": "code",
   "execution_count": 90,
   "id": "c8e1db6d",
   "metadata": {},
   "outputs": [
    {
     "name": "stdout",
     "output_type": "stream",
     "text": [
      "Books to Scrape\n"
     ]
    }
   ],
   "source": [
    "title=webD.find_element_by_tag_name('a')\n",
    "print(title.text)"
   ]
  },
  {
   "cell_type": "code",
   "execution_count": 91,
   "id": "ece87a21",
   "metadata": {},
   "outputs": [
    {
     "name": "stdout",
     "output_type": "stream",
     "text": [
      "We love being scraped!\n"
     ]
    }
   ],
   "source": [
    "t1=webD.find_element_by_tag_name('small')\n",
    "print(t1.text)"
   ]
  },
  {
   "cell_type": "code",
   "execution_count": 97,
   "id": "4225f8ae",
   "metadata": {},
   "outputs": [
    {
     "name": "stdout",
     "output_type": "stream",
     "text": [
      "Books\n",
      "Travel\n",
      "Mystery\n",
      "Historical Fiction\n",
      "Sequential Art\n",
      "Classics\n",
      "Philosophy\n",
      "Romance\n",
      "Womens Fiction\n",
      "Fiction\n",
      "Childrens\n",
      "Religion\n",
      "Nonfiction\n",
      "Music\n",
      "Default\n",
      "Science Fiction\n",
      "Sports and Games\n",
      "Add a comment\n",
      "Fantasy\n",
      "New Adult\n",
      "Young Adult\n",
      "Science\n",
      "Poetry\n",
      "Paranormal\n",
      "Art\n",
      "Psychology\n",
      "Autobiography\n",
      "Parenting\n",
      "Adult Fiction\n",
      "Humor\n",
      "Horror\n",
      "History\n",
      "Food and Drink\n",
      "Christian Fiction\n",
      "Business\n",
      "Biography\n",
      "Thriller\n",
      "Contemporary\n",
      "Spirituality\n",
      "Academic\n",
      "Self Help\n",
      "Historical\n",
      "Christian\n",
      "Suspense\n",
      "Short Stories\n",
      "Novels\n",
      "Health\n",
      "Politics\n",
      "Cultural\n",
      "Erotica\n",
      "Crime\n"
     ]
    }
   ],
   "source": [
    "t2=webD.find_elements_by_class_name(\"side_categories\")\n",
    "for i in t2:\n",
    "    print(i.text)"
   ]
  },
  {
   "cell_type": "code",
   "execution_count": 115,
   "id": "cc35c8bb",
   "metadata": {},
   "outputs": [
    {
     "name": "stdout",
     "output_type": "stream",
     "text": [
      "[<selenium.webdriver.remote.webelement.WebElement (session=\"e49737a05a0a584f47be66eab215c826\", element=\"4E69A7D13CBD01E406882B432F11D7BE_element_1440\")>, <selenium.webdriver.remote.webelement.WebElement (session=\"e49737a05a0a584f47be66eab215c826\", element=\"4E69A7D13CBD01E406882B432F11D7BE_element_1441\")>, <selenium.webdriver.remote.webelement.WebElement (session=\"e49737a05a0a584f47be66eab215c826\", element=\"4E69A7D13CBD01E406882B432F11D7BE_element_1442\")>, <selenium.webdriver.remote.webelement.WebElement (session=\"e49737a05a0a584f47be66eab215c826\", element=\"4E69A7D13CBD01E406882B432F11D7BE_element_1024\")>, <selenium.webdriver.remote.webelement.WebElement (session=\"e49737a05a0a584f47be66eab215c826\", element=\"4E69A7D13CBD01E406882B432F11D7BE_element_1026\")>, <selenium.webdriver.remote.webelement.WebElement (session=\"e49737a05a0a584f47be66eab215c826\", element=\"4E69A7D13CBD01E406882B432F11D7BE_element_1028\")>, <selenium.webdriver.remote.webelement.WebElement (session=\"e49737a05a0a584f47be66eab215c826\", element=\"4E69A7D13CBD01E406882B432F11D7BE_element_1029\")>, <selenium.webdriver.remote.webelement.WebElement (session=\"e49737a05a0a584f47be66eab215c826\", element=\"4E69A7D13CBD01E406882B432F11D7BE_element_1031\")>, <selenium.webdriver.remote.webelement.WebElement (session=\"e49737a05a0a584f47be66eab215c826\", element=\"4E69A7D13CBD01E406882B432F11D7BE_element_1033\")>, <selenium.webdriver.remote.webelement.WebElement (session=\"e49737a05a0a584f47be66eab215c826\", element=\"4E69A7D13CBD01E406882B432F11D7BE_element_1035\")>, <selenium.webdriver.remote.webelement.WebElement (session=\"e49737a05a0a584f47be66eab215c826\", element=\"4E69A7D13CBD01E406882B432F11D7BE_element_1037\")>, <selenium.webdriver.remote.webelement.WebElement (session=\"e49737a05a0a584f47be66eab215c826\", element=\"4E69A7D13CBD01E406882B432F11D7BE_element_1039\")>, <selenium.webdriver.remote.webelement.WebElement (session=\"e49737a05a0a584f47be66eab215c826\", element=\"4E69A7D13CBD01E406882B432F11D7BE_element_1041\")>, <selenium.webdriver.remote.webelement.WebElement (session=\"e49737a05a0a584f47be66eab215c826\", element=\"4E69A7D13CBD01E406882B432F11D7BE_element_1043\")>, <selenium.webdriver.remote.webelement.WebElement (session=\"e49737a05a0a584f47be66eab215c826\", element=\"4E69A7D13CBD01E406882B432F11D7BE_element_1045\")>, <selenium.webdriver.remote.webelement.WebElement (session=\"e49737a05a0a584f47be66eab215c826\", element=\"4E69A7D13CBD01E406882B432F11D7BE_element_1047\")>, <selenium.webdriver.remote.webelement.WebElement (session=\"e49737a05a0a584f47be66eab215c826\", element=\"4E69A7D13CBD01E406882B432F11D7BE_element_1049\")>, <selenium.webdriver.remote.webelement.WebElement (session=\"e49737a05a0a584f47be66eab215c826\", element=\"4E69A7D13CBD01E406882B432F11D7BE_element_1051\")>, <selenium.webdriver.remote.webelement.WebElement (session=\"e49737a05a0a584f47be66eab215c826\", element=\"4E69A7D13CBD01E406882B432F11D7BE_element_1053\")>, <selenium.webdriver.remote.webelement.WebElement (session=\"e49737a05a0a584f47be66eab215c826\", element=\"4E69A7D13CBD01E406882B432F11D7BE_element_1055\")>, <selenium.webdriver.remote.webelement.WebElement (session=\"e49737a05a0a584f47be66eab215c826\", element=\"4E69A7D13CBD01E406882B432F11D7BE_element_1059\")>, <selenium.webdriver.remote.webelement.WebElement (session=\"e49737a05a0a584f47be66eab215c826\", element=\"4E69A7D13CBD01E406882B432F11D7BE_element_1063\")>, <selenium.webdriver.remote.webelement.WebElement (session=\"e49737a05a0a584f47be66eab215c826\", element=\"4E69A7D13CBD01E406882B432F11D7BE_element_1067\")>, <selenium.webdriver.remote.webelement.WebElement (session=\"e49737a05a0a584f47be66eab215c826\", element=\"4E69A7D13CBD01E406882B432F11D7BE_element_1071\")>, <selenium.webdriver.remote.webelement.WebElement (session=\"e49737a05a0a584f47be66eab215c826\", element=\"4E69A7D13CBD01E406882B432F11D7BE_element_1075\")>, <selenium.webdriver.remote.webelement.WebElement (session=\"e49737a05a0a584f47be66eab215c826\", element=\"4E69A7D13CBD01E406882B432F11D7BE_element_1079\")>, <selenium.webdriver.remote.webelement.WebElement (session=\"e49737a05a0a584f47be66eab215c826\", element=\"4E69A7D13CBD01E406882B432F11D7BE_element_1083\")>, <selenium.webdriver.remote.webelement.WebElement (session=\"e49737a05a0a584f47be66eab215c826\", element=\"4E69A7D13CBD01E406882B432F11D7BE_element_1087\")>, <selenium.webdriver.remote.webelement.WebElement (session=\"e49737a05a0a584f47be66eab215c826\", element=\"4E69A7D13CBD01E406882B432F11D7BE_element_1091\")>, <selenium.webdriver.remote.webelement.WebElement (session=\"e49737a05a0a584f47be66eab215c826\", element=\"4E69A7D13CBD01E406882B432F11D7BE_element_1095\")>, <selenium.webdriver.remote.webelement.WebElement (session=\"e49737a05a0a584f47be66eab215c826\", element=\"4E69A7D13CBD01E406882B432F11D7BE_element_1099\")>, <selenium.webdriver.remote.webelement.WebElement (session=\"e49737a05a0a584f47be66eab215c826\", element=\"4E69A7D13CBD01E406882B432F11D7BE_element_1103\")>, <selenium.webdriver.remote.webelement.WebElement (session=\"e49737a05a0a584f47be66eab215c826\", element=\"4E69A7D13CBD01E406882B432F11D7BE_element_1107\")>, <selenium.webdriver.remote.webelement.WebElement (session=\"e49737a05a0a584f47be66eab215c826\", element=\"4E69A7D13CBD01E406882B432F11D7BE_element_1111\")>, <selenium.webdriver.remote.webelement.WebElement (session=\"e49737a05a0a584f47be66eab215c826\", element=\"4E69A7D13CBD01E406882B432F11D7BE_element_1115\")>, <selenium.webdriver.remote.webelement.WebElement (session=\"e49737a05a0a584f47be66eab215c826\", element=\"4E69A7D13CBD01E406882B432F11D7BE_element_1119\")>, <selenium.webdriver.remote.webelement.WebElement (session=\"e49737a05a0a584f47be66eab215c826\", element=\"4E69A7D13CBD01E406882B432F11D7BE_element_1123\")>, <selenium.webdriver.remote.webelement.WebElement (session=\"e49737a05a0a584f47be66eab215c826\", element=\"4E69A7D13CBD01E406882B432F11D7BE_element_1127\")>, <selenium.webdriver.remote.webelement.WebElement (session=\"e49737a05a0a584f47be66eab215c826\", element=\"4E69A7D13CBD01E406882B432F11D7BE_element_1131\")>, <selenium.webdriver.remote.webelement.WebElement (session=\"e49737a05a0a584f47be66eab215c826\", element=\"4E69A7D13CBD01E406882B432F11D7BE_element_1135\")>, <selenium.webdriver.remote.webelement.WebElement (session=\"e49737a05a0a584f47be66eab215c826\", element=\"4E69A7D13CBD01E406882B432F11D7BE_element_1139\")>, <selenium.webdriver.remote.webelement.WebElement (session=\"e49737a05a0a584f47be66eab215c826\", element=\"4E69A7D13CBD01E406882B432F11D7BE_element_1143\")>, <selenium.webdriver.remote.webelement.WebElement (session=\"e49737a05a0a584f47be66eab215c826\", element=\"4E69A7D13CBD01E406882B432F11D7BE_element_1147\")>, <selenium.webdriver.remote.webelement.WebElement (session=\"e49737a05a0a584f47be66eab215c826\", element=\"4E69A7D13CBD01E406882B432F11D7BE_element_1151\")>, <selenium.webdriver.remote.webelement.WebElement (session=\"e49737a05a0a584f47be66eab215c826\", element=\"4E69A7D13CBD01E406882B432F11D7BE_element_1155\")>, <selenium.webdriver.remote.webelement.WebElement (session=\"e49737a05a0a584f47be66eab215c826\", element=\"4E69A7D13CBD01E406882B432F11D7BE_element_1159\")>, <selenium.webdriver.remote.webelement.WebElement (session=\"e49737a05a0a584f47be66eab215c826\", element=\"4E69A7D13CBD01E406882B432F11D7BE_element_1163\")>, <selenium.webdriver.remote.webelement.WebElement (session=\"e49737a05a0a584f47be66eab215c826\", element=\"4E69A7D13CBD01E406882B432F11D7BE_element_1167\")>, <selenium.webdriver.remote.webelement.WebElement (session=\"e49737a05a0a584f47be66eab215c826\", element=\"4E69A7D13CBD01E406882B432F11D7BE_element_1171\")>, <selenium.webdriver.remote.webelement.WebElement (session=\"e49737a05a0a584f47be66eab215c826\", element=\"4E69A7D13CBD01E406882B432F11D7BE_element_1175\")>, <selenium.webdriver.remote.webelement.WebElement (session=\"e49737a05a0a584f47be66eab215c826\", element=\"4E69A7D13CBD01E406882B432F11D7BE_element_1179\")>, <selenium.webdriver.remote.webelement.WebElement (session=\"e49737a05a0a584f47be66eab215c826\", element=\"4E69A7D13CBD01E406882B432F11D7BE_element_1183\")>, <selenium.webdriver.remote.webelement.WebElement (session=\"e49737a05a0a584f47be66eab215c826\", element=\"4E69A7D13CBD01E406882B432F11D7BE_element_1187\")>, <selenium.webdriver.remote.webelement.WebElement (session=\"e49737a05a0a584f47be66eab215c826\", element=\"4E69A7D13CBD01E406882B432F11D7BE_element_1191\")>, <selenium.webdriver.remote.webelement.WebElement (session=\"e49737a05a0a584f47be66eab215c826\", element=\"4E69A7D13CBD01E406882B432F11D7BE_element_1443\")>, <selenium.webdriver.remote.webelement.WebElement (session=\"e49737a05a0a584f47be66eab215c826\", element=\"4E69A7D13CBD01E406882B432F11D7BE_element_1444\")>, <selenium.webdriver.remote.webelement.WebElement (session=\"e49737a05a0a584f47be66eab215c826\", element=\"4E69A7D13CBD01E406882B432F11D7BE_element_1445\")>, <selenium.webdriver.remote.webelement.WebElement (session=\"e49737a05a0a584f47be66eab215c826\", element=\"4E69A7D13CBD01E406882B432F11D7BE_element_1446\")>, <selenium.webdriver.remote.webelement.WebElement (session=\"e49737a05a0a584f47be66eab215c826\", element=\"4E69A7D13CBD01E406882B432F11D7BE_element_1447\")>, <selenium.webdriver.remote.webelement.WebElement (session=\"e49737a05a0a584f47be66eab215c826\", element=\"4E69A7D13CBD01E406882B432F11D7BE_element_1448\")>, <selenium.webdriver.remote.webelement.WebElement (session=\"e49737a05a0a584f47be66eab215c826\", element=\"4E69A7D13CBD01E406882B432F11D7BE_element_1449\")>, <selenium.webdriver.remote.webelement.WebElement (session=\"e49737a05a0a584f47be66eab215c826\", element=\"4E69A7D13CBD01E406882B432F11D7BE_element_1450\")>, <selenium.webdriver.remote.webelement.WebElement (session=\"e49737a05a0a584f47be66eab215c826\", element=\"4E69A7D13CBD01E406882B432F11D7BE_element_1451\")>, <selenium.webdriver.remote.webelement.WebElement (session=\"e49737a05a0a584f47be66eab215c826\", element=\"4E69A7D13CBD01E406882B432F11D7BE_element_1452\")>, <selenium.webdriver.remote.webelement.WebElement (session=\"e49737a05a0a584f47be66eab215c826\", element=\"4E69A7D13CBD01E406882B432F11D7BE_element_1453\")>, <selenium.webdriver.remote.webelement.WebElement (session=\"e49737a05a0a584f47be66eab215c826\", element=\"4E69A7D13CBD01E406882B432F11D7BE_element_1454\")>, <selenium.webdriver.remote.webelement.WebElement (session=\"e49737a05a0a584f47be66eab215c826\", element=\"4E69A7D13CBD01E406882B432F11D7BE_element_1455\")>, <selenium.webdriver.remote.webelement.WebElement (session=\"e49737a05a0a584f47be66eab215c826\", element=\"4E69A7D13CBD01E406882B432F11D7BE_element_1456\")>, <selenium.webdriver.remote.webelement.WebElement (session=\"e49737a05a0a584f47be66eab215c826\", element=\"4E69A7D13CBD01E406882B432F11D7BE_element_1457\")>, <selenium.webdriver.remote.webelement.WebElement (session=\"e49737a05a0a584f47be66eab215c826\", element=\"4E69A7D13CBD01E406882B432F11D7BE_element_1458\")>, <selenium.webdriver.remote.webelement.WebElement (session=\"e49737a05a0a584f47be66eab215c826\", element=\"4E69A7D13CBD01E406882B432F11D7BE_element_1459\")>, <selenium.webdriver.remote.webelement.WebElement (session=\"e49737a05a0a584f47be66eab215c826\", element=\"4E69A7D13CBD01E406882B432F11D7BE_element_1460\")>, <selenium.webdriver.remote.webelement.WebElement (session=\"e49737a05a0a584f47be66eab215c826\", element=\"4E69A7D13CBD01E406882B432F11D7BE_element_1461\")>, <selenium.webdriver.remote.webelement.WebElement (session=\"e49737a05a0a584f47be66eab215c826\", element=\"4E69A7D13CBD01E406882B432F11D7BE_element_1462\")>, <selenium.webdriver.remote.webelement.WebElement (session=\"e49737a05a0a584f47be66eab215c826\", element=\"4E69A7D13CBD01E406882B432F11D7BE_element_1463\")>, <selenium.webdriver.remote.webelement.WebElement (session=\"e49737a05a0a584f47be66eab215c826\", element=\"4E69A7D13CBD01E406882B432F11D7BE_element_1464\")>, <selenium.webdriver.remote.webelement.WebElement (session=\"e49737a05a0a584f47be66eab215c826\", element=\"4E69A7D13CBD01E406882B432F11D7BE_element_1465\")>, <selenium.webdriver.remote.webelement.WebElement (session=\"e49737a05a0a584f47be66eab215c826\", element=\"4E69A7D13CBD01E406882B432F11D7BE_element_1466\")>, <selenium.webdriver.remote.webelement.WebElement (session=\"e49737a05a0a584f47be66eab215c826\", element=\"4E69A7D13CBD01E406882B432F11D7BE_element_1467\")>, <selenium.webdriver.remote.webelement.WebElement (session=\"e49737a05a0a584f47be66eab215c826\", element=\"4E69A7D13CBD01E406882B432F11D7BE_element_1468\")>, <selenium.webdriver.remote.webelement.WebElement (session=\"e49737a05a0a584f47be66eab215c826\", element=\"4E69A7D13CBD01E406882B432F11D7BE_element_1469\")>, <selenium.webdriver.remote.webelement.WebElement (session=\"e49737a05a0a584f47be66eab215c826\", element=\"4E69A7D13CBD01E406882B432F11D7BE_element_1470\")>, <selenium.webdriver.remote.webelement.WebElement (session=\"e49737a05a0a584f47be66eab215c826\", element=\"4E69A7D13CBD01E406882B432F11D7BE_element_1471\")>, <selenium.webdriver.remote.webelement.WebElement (session=\"e49737a05a0a584f47be66eab215c826\", element=\"4E69A7D13CBD01E406882B432F11D7BE_element_1472\")>, <selenium.webdriver.remote.webelement.WebElement (session=\"e49737a05a0a584f47be66eab215c826\", element=\"4E69A7D13CBD01E406882B432F11D7BE_element_1473\")>, <selenium.webdriver.remote.webelement.WebElement (session=\"e49737a05a0a584f47be66eab215c826\", element=\"4E69A7D13CBD01E406882B432F11D7BE_element_1474\")>, <selenium.webdriver.remote.webelement.WebElement (session=\"e49737a05a0a584f47be66eab215c826\", element=\"4E69A7D13CBD01E406882B432F11D7BE_element_1475\")>, <selenium.webdriver.remote.webelement.WebElement (session=\"e49737a05a0a584f47be66eab215c826\", element=\"4E69A7D13CBD01E406882B432F11D7BE_element_1476\")>, <selenium.webdriver.remote.webelement.WebElement (session=\"e49737a05a0a584f47be66eab215c826\", element=\"4E69A7D13CBD01E406882B432F11D7BE_element_1477\")>, <selenium.webdriver.remote.webelement.WebElement (session=\"e49737a05a0a584f47be66eab215c826\", element=\"4E69A7D13CBD01E406882B432F11D7BE_element_1478\")>, <selenium.webdriver.remote.webelement.WebElement (session=\"e49737a05a0a584f47be66eab215c826\", element=\"4E69A7D13CBD01E406882B432F11D7BE_element_1479\")>, <selenium.webdriver.remote.webelement.WebElement (session=\"e49737a05a0a584f47be66eab215c826\", element=\"4E69A7D13CBD01E406882B432F11D7BE_element_1480\")>, <selenium.webdriver.remote.webelement.WebElement (session=\"e49737a05a0a584f47be66eab215c826\", element=\"4E69A7D13CBD01E406882B432F11D7BE_element_1481\")>, <selenium.webdriver.remote.webelement.WebElement (session=\"e49737a05a0a584f47be66eab215c826\", element=\"4E69A7D13CBD01E406882B432F11D7BE_element_1482\")>, <selenium.webdriver.remote.webelement.WebElement (session=\"e49737a05a0a584f47be66eab215c826\", element=\"4E69A7D13CBD01E406882B432F11D7BE_element_1483\")>]\n"
     ]
    }
   ],
   "source": [
    "t3=webD.find_elements_by_class_name(\"side_categories\")\n",
    "for val in t3:\n",
    "    link=webD.find_elements_by_tag_name('a')\n",
    "    print(link)"
   ]
  },
  {
   "cell_type": "code",
   "execution_count": 123,
   "id": "4d57e23a",
   "metadata": {},
   "outputs": [
    {
     "name": "stdout",
     "output_type": "stream",
     "text": [
      "URL: https://books.toscrape.com/catalogue/category/books_1/index.html\n",
      "Text: Books\n",
      "URL: https://books.toscrape.com/catalogue/category/books/travel_2/index.html\n",
      "Text: Travel\n",
      "URL: https://books.toscrape.com/catalogue/category/books/mystery_3/index.html\n",
      "Text: Mystery\n",
      "URL: https://books.toscrape.com/catalogue/category/books/historical-fiction_4/index.html\n",
      "Text: Historical Fiction\n",
      "URL: https://books.toscrape.com/catalogue/category/books/sequential-art_5/index.html\n",
      "Text: Sequential Art\n",
      "URL: https://books.toscrape.com/catalogue/category/books/classics_6/index.html\n",
      "Text: Classics\n",
      "URL: https://books.toscrape.com/catalogue/category/books/philosophy_7/index.html\n",
      "Text: Philosophy\n",
      "URL: https://books.toscrape.com/catalogue/category/books/romance_8/index.html\n",
      "Text: Romance\n",
      "URL: https://books.toscrape.com/catalogue/category/books/womens-fiction_9/index.html\n",
      "Text: Womens Fiction\n",
      "URL: https://books.toscrape.com/catalogue/category/books/fiction_10/index.html\n",
      "Text: Fiction\n",
      "URL: https://books.toscrape.com/catalogue/category/books/childrens_11/index.html\n",
      "Text: Childrens\n",
      "URL: https://books.toscrape.com/catalogue/category/books/religion_12/index.html\n",
      "Text: Religion\n",
      "URL: https://books.toscrape.com/catalogue/category/books/nonfiction_13/index.html\n",
      "Text: Nonfiction\n",
      "URL: https://books.toscrape.com/catalogue/category/books/music_14/index.html\n",
      "Text: Music\n",
      "URL: https://books.toscrape.com/catalogue/category/books/default_15/index.html\n",
      "Text: Default\n",
      "URL: https://books.toscrape.com/catalogue/category/books/science-fiction_16/index.html\n",
      "Text: Science Fiction\n",
      "URL: https://books.toscrape.com/catalogue/category/books/sports-and-games_17/index.html\n",
      "Text: Sports and Games\n",
      "URL: https://books.toscrape.com/catalogue/category/books/add-a-comment_18/index.html\n",
      "Text: Add a comment\n",
      "URL: https://books.toscrape.com/catalogue/category/books/fantasy_19/index.html\n",
      "Text: Fantasy\n",
      "URL: https://books.toscrape.com/catalogue/category/books/new-adult_20/index.html\n",
      "Text: New Adult\n",
      "URL: https://books.toscrape.com/catalogue/category/books/young-adult_21/index.html\n",
      "Text: Young Adult\n",
      "URL: https://books.toscrape.com/catalogue/category/books/science_22/index.html\n",
      "Text: Science\n",
      "URL: https://books.toscrape.com/catalogue/category/books/poetry_23/index.html\n",
      "Text: Poetry\n",
      "URL: https://books.toscrape.com/catalogue/category/books/paranormal_24/index.html\n",
      "Text: Paranormal\n",
      "URL: https://books.toscrape.com/catalogue/category/books/art_25/index.html\n",
      "Text: Art\n",
      "URL: https://books.toscrape.com/catalogue/category/books/psychology_26/index.html\n",
      "Text: Psychology\n",
      "URL: https://books.toscrape.com/catalogue/category/books/autobiography_27/index.html\n",
      "Text: Autobiography\n",
      "URL: https://books.toscrape.com/catalogue/category/books/parenting_28/index.html\n",
      "Text: Parenting\n",
      "URL: https://books.toscrape.com/catalogue/category/books/adult-fiction_29/index.html\n",
      "Text: Adult Fiction\n",
      "URL: https://books.toscrape.com/catalogue/category/books/humor_30/index.html\n",
      "Text: Humor\n",
      "URL: https://books.toscrape.com/catalogue/category/books/horror_31/index.html\n",
      "Text: Horror\n",
      "URL: https://books.toscrape.com/catalogue/category/books/history_32/index.html\n",
      "Text: History\n",
      "URL: https://books.toscrape.com/catalogue/category/books/food-and-drink_33/index.html\n",
      "Text: Food and Drink\n",
      "URL: https://books.toscrape.com/catalogue/category/books/christian-fiction_34/index.html\n",
      "Text: Christian Fiction\n",
      "URL: https://books.toscrape.com/catalogue/category/books/business_35/index.html\n",
      "Text: Business\n",
      "URL: https://books.toscrape.com/catalogue/category/books/biography_36/index.html\n",
      "Text: Biography\n",
      "URL: https://books.toscrape.com/catalogue/category/books/thriller_37/index.html\n",
      "Text: Thriller\n",
      "URL: https://books.toscrape.com/catalogue/category/books/contemporary_38/index.html\n",
      "Text: Contemporary\n",
      "URL: https://books.toscrape.com/catalogue/category/books/spirituality_39/index.html\n",
      "Text: Spirituality\n",
      "URL: https://books.toscrape.com/catalogue/category/books/academic_40/index.html\n",
      "Text: Academic\n",
      "URL: https://books.toscrape.com/catalogue/category/books/self-help_41/index.html\n",
      "Text: Self Help\n",
      "URL: https://books.toscrape.com/catalogue/category/books/historical_42/index.html\n",
      "Text: Historical\n",
      "URL: https://books.toscrape.com/catalogue/category/books/christian_43/index.html\n",
      "Text: Christian\n",
      "URL: https://books.toscrape.com/catalogue/category/books/suspense_44/index.html\n",
      "Text: Suspense\n",
      "URL: https://books.toscrape.com/catalogue/category/books/short-stories_45/index.html\n",
      "Text: Short Stories\n",
      "URL: https://books.toscrape.com/catalogue/category/books/novels_46/index.html\n",
      "Text: Novels\n",
      "URL: https://books.toscrape.com/catalogue/category/books/health_47/index.html\n",
      "Text: Health\n",
      "URL: https://books.toscrape.com/catalogue/category/books/politics_48/index.html\n",
      "Text: Politics\n",
      "URL: https://books.toscrape.com/catalogue/category/books/cultural_49/index.html\n",
      "Text: Cultural\n",
      "URL: https://books.toscrape.com/catalogue/category/books/erotica_50/index.html\n",
      "Text: Erotica\n",
      "URL: https://books.toscrape.com/catalogue/category/books/crime_51/index.html\n",
      "Text: Crime\n"
     ]
    }
   ],
   "source": [
    "book = webD.find_elements_by_class_name(\"nav-list\")\n",
    "for i in book:\n",
    "    links=i.find_elements_by_tag_name('a')\n",
    "    for link in links:\n",
    "        print(\"URL:\", link.get_attribute(\"href\"))\n",
    "        print(\"Text:\", link.text)"
   ]
  },
  {
   "cell_type": "code",
   "execution_count": 136,
   "id": "6fd0d1de",
   "metadata": {},
   "outputs": [],
   "source": [
    "#to get travel page\n",
    "list1=webD.find_elements_by_tag_name('a')\n",
    "for val in list1:\n",
    "    if val.text=='Travel':\n",
    "        link=val.get_attribute('href')\n",
    "webD.get(str(link))        "
   ]
  },
  {
   "cell_type": "code",
   "execution_count": null,
   "id": "e02bebc0",
   "metadata": {},
   "outputs": [],
   "source": []
  },
  {
   "cell_type": "code",
   "execution_count": null,
   "id": "130df3ec",
   "metadata": {},
   "outputs": [],
   "source": []
  }
 ],
 "metadata": {
  "kernelspec": {
   "display_name": "Python 3 (ipykernel)",
   "language": "python",
   "name": "python3"
  },
  "language_info": {
   "codemirror_mode": {
    "name": "ipython",
    "version": 3
   },
   "file_extension": ".py",
   "mimetype": "text/x-python",
   "name": "python",
   "nbconvert_exporter": "python",
   "pygments_lexer": "ipython3",
   "version": "3.11.5"
  }
 },
 "nbformat": 4,
 "nbformat_minor": 5
}
